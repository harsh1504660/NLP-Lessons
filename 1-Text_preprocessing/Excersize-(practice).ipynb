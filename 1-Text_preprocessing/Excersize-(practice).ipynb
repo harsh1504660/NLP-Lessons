{
 "cells": [
  {
   "cell_type": "code",
   "execution_count": 6,
   "id": "3ef100af",
   "metadata": {},
   "outputs": [],
   "source": [
    "import pandas as pd\n",
    "import requests"
   ]
  },
  {
   "cell_type": "code",
   "execution_count": 150,
   "id": "baa5aff4",
   "metadata": {},
   "outputs": [],
   "source": [
    "response = requests.get('https://api.themoviedb.org/3/movie/top_rated?api_key=8265bd1679663a7ea12ac168da84d2e8&language=en-US&page=1')"
   ]
  },
  {
   "cell_type": "code",
   "execution_count": 151,
   "id": "eaf964c0",
   "metadata": {},
   "outputs": [],
   "source": [
    "df = pd.DataFrame(response.json()['results'])"
   ]
  },
  {
   "cell_type": "code",
   "execution_count": 152,
   "id": "b5e5e01a",
   "metadata": {},
   "outputs": [
    {
     "data": {
      "text/html": [
       "<div>\n",
       "<style scoped>\n",
       "    .dataframe tbody tr th:only-of-type {\n",
       "        vertical-align: middle;\n",
       "    }\n",
       "\n",
       "    .dataframe tbody tr th {\n",
       "        vertical-align: top;\n",
       "    }\n",
       "\n",
       "    .dataframe thead th {\n",
       "        text-align: right;\n",
       "    }\n",
       "</style>\n",
       "<table border=\"1\" class=\"dataframe\">\n",
       "  <thead>\n",
       "    <tr style=\"text-align: right;\">\n",
       "      <th></th>\n",
       "      <th>adult</th>\n",
       "      <th>backdrop_path</th>\n",
       "      <th>genre_ids</th>\n",
       "      <th>id</th>\n",
       "      <th>original_language</th>\n",
       "      <th>original_title</th>\n",
       "      <th>overview</th>\n",
       "      <th>popularity</th>\n",
       "      <th>poster_path</th>\n",
       "      <th>release_date</th>\n",
       "      <th>title</th>\n",
       "      <th>video</th>\n",
       "      <th>vote_average</th>\n",
       "      <th>vote_count</th>\n",
       "    </tr>\n",
       "  </thead>\n",
       "  <tbody>\n",
       "    <tr>\n",
       "      <th>15</th>\n",
       "      <td>False</td>\n",
       "      <td>/sw7mordbZxgITU877yTpZCud90M.jpg</td>\n",
       "      <td>[18, 80]</td>\n",
       "      <td>769</td>\n",
       "      <td>en</td>\n",
       "      <td>GoodFellas</td>\n",
       "      <td>The true story of Henry Hill, a half-Irish, ha...</td>\n",
       "      <td>68.556</td>\n",
       "      <td>/aKuFiU82s5ISJpGZp7YkIr3kCUd.jpg</td>\n",
       "      <td>1990-09-12</td>\n",
       "      <td>GoodFellas</td>\n",
       "      <td>False</td>\n",
       "      <td>8.466</td>\n",
       "      <td>11926</td>\n",
       "    </tr>\n",
       "    <tr>\n",
       "      <th>16</th>\n",
       "      <td>False</td>\n",
       "      <td>/dlC0ed9Ugh3FzydnkBtV5lRXUu4.jpg</td>\n",
       "      <td>[16, 18, 10752]</td>\n",
       "      <td>12477</td>\n",
       "      <td>ja</td>\n",
       "      <td>火垂るの墓</td>\n",
       "      <td>In the final months of World War II, 14-year-o...</td>\n",
       "      <td>0.600</td>\n",
       "      <td>/k9tv1rXZbOhH7eiCk378x61kNQ1.jpg</td>\n",
       "      <td>1988-04-15</td>\n",
       "      <td>Grave of the Fireflies</td>\n",
       "      <td>False</td>\n",
       "      <td>8.456</td>\n",
       "      <td>4963</td>\n",
       "    </tr>\n",
       "    <tr>\n",
       "      <th>17</th>\n",
       "      <td>False</td>\n",
       "      <td>/gavyCu1UaTaTNPsVaGXT6pe5u24.jpg</td>\n",
       "      <td>[35, 18]</td>\n",
       "      <td>637</td>\n",
       "      <td>it</td>\n",
       "      <td>La vita è bella</td>\n",
       "      <td>A touching story of an Italian book seller of ...</td>\n",
       "      <td>44.351</td>\n",
       "      <td>/74hLDKjD5aGYOotO6esUVaeISa2.jpg</td>\n",
       "      <td>1997-12-20</td>\n",
       "      <td>Life Is Beautiful</td>\n",
       "      <td>False</td>\n",
       "      <td>8.455</td>\n",
       "      <td>12370</td>\n",
       "    </tr>\n",
       "    <tr>\n",
       "      <th>18</th>\n",
       "      <td>False</td>\n",
       "      <td>/qvZ91FwMq6O47VViAr8vZNQz3WI.jpg</td>\n",
       "      <td>[28, 18]</td>\n",
       "      <td>346</td>\n",
       "      <td>ja</td>\n",
       "      <td>七人の侍</td>\n",
       "      <td>A samurai answers a village's request for prot...</td>\n",
       "      <td>41.864</td>\n",
       "      <td>/8OKmBV5BUFzmozIC3pPWKHy17kx.jpg</td>\n",
       "      <td>1954-04-26</td>\n",
       "      <td>Seven Samurai</td>\n",
       "      <td>False</td>\n",
       "      <td>8.453</td>\n",
       "      <td>3298</td>\n",
       "    </tr>\n",
       "    <tr>\n",
       "      <th>19</th>\n",
       "      <td>False</td>\n",
       "      <td>/zoVeIgKzGJzpdG6Gwnr7iOYfIMU.jpg</td>\n",
       "      <td>[18, 10749]</td>\n",
       "      <td>11216</td>\n",
       "      <td>it</td>\n",
       "      <td>Nuovo Cinema Paradiso</td>\n",
       "      <td>A filmmaker recalls his childhood, when he fel...</td>\n",
       "      <td>34.256</td>\n",
       "      <td>/8SRUfRUi6x4O68n0VCbDNRa6iGL.jpg</td>\n",
       "      <td>1988-11-17</td>\n",
       "      <td>Cinema Paradiso</td>\n",
       "      <td>False</td>\n",
       "      <td>8.448</td>\n",
       "      <td>4023</td>\n",
       "    </tr>\n",
       "  </tbody>\n",
       "</table>\n",
       "</div>"
      ],
      "text/plain": [
       "    adult                     backdrop_path        genre_ids     id  \\\n",
       "15  False  /sw7mordbZxgITU877yTpZCud90M.jpg         [18, 80]    769   \n",
       "16  False  /dlC0ed9Ugh3FzydnkBtV5lRXUu4.jpg  [16, 18, 10752]  12477   \n",
       "17  False  /gavyCu1UaTaTNPsVaGXT6pe5u24.jpg         [35, 18]    637   \n",
       "18  False  /qvZ91FwMq6O47VViAr8vZNQz3WI.jpg         [28, 18]    346   \n",
       "19  False  /zoVeIgKzGJzpdG6Gwnr7iOYfIMU.jpg      [18, 10749]  11216   \n",
       "\n",
       "   original_language         original_title  \\\n",
       "15                en             GoodFellas   \n",
       "16                ja                  火垂るの墓   \n",
       "17                it        La vita è bella   \n",
       "18                ja                   七人の侍   \n",
       "19                it  Nuovo Cinema Paradiso   \n",
       "\n",
       "                                             overview  popularity  \\\n",
       "15  The true story of Henry Hill, a half-Irish, ha...      68.556   \n",
       "16  In the final months of World War II, 14-year-o...       0.600   \n",
       "17  A touching story of an Italian book seller of ...      44.351   \n",
       "18  A samurai answers a village's request for prot...      41.864   \n",
       "19  A filmmaker recalls his childhood, when he fel...      34.256   \n",
       "\n",
       "                         poster_path release_date                   title  \\\n",
       "15  /aKuFiU82s5ISJpGZp7YkIr3kCUd.jpg   1990-09-12              GoodFellas   \n",
       "16  /k9tv1rXZbOhH7eiCk378x61kNQ1.jpg   1988-04-15  Grave of the Fireflies   \n",
       "17  /74hLDKjD5aGYOotO6esUVaeISa2.jpg   1997-12-20       Life Is Beautiful   \n",
       "18  /8OKmBV5BUFzmozIC3pPWKHy17kx.jpg   1954-04-26           Seven Samurai   \n",
       "19  /8SRUfRUi6x4O68n0VCbDNRa6iGL.jpg   1988-11-17         Cinema Paradiso   \n",
       "\n",
       "    video  vote_average  vote_count  \n",
       "15  False         8.466       11926  \n",
       "16  False         8.456        4963  \n",
       "17  False         8.455       12370  \n",
       "18  False         8.453        3298  \n",
       "19  False         8.448        4023  "
      ]
     },
     "execution_count": 152,
     "metadata": {},
     "output_type": "execute_result"
    }
   ],
   "source": [
    "df.tail()"
   ]
  },
  {
   "cell_type": "code",
   "execution_count": 153,
   "id": "ad272b4e",
   "metadata": {},
   "outputs": [
    {
     "data": {
      "text/plain": [
       "(20, 14)"
      ]
     },
     "execution_count": 153,
     "metadata": {},
     "output_type": "execute_result"
    }
   ],
   "source": [
    "df.shape"
   ]
  },
  {
   "cell_type": "code",
   "execution_count": 154,
   "id": "6cc718b9",
   "metadata": {},
   "outputs": [
    {
     "data": {
      "text/plain": [
       "Index(['adult', 'backdrop_path', 'genre_ids', 'id', 'original_language',\n",
       "       'original_title', 'overview', 'popularity', 'poster_path',\n",
       "       'release_date', 'title', 'video', 'vote_average', 'vote_count'],\n",
       "      dtype='object')"
      ]
     },
     "execution_count": 154,
     "metadata": {},
     "output_type": "execute_result"
    }
   ],
   "source": [
    "df.columns"
   ]
  },
  {
   "cell_type": "code",
   "execution_count": 155,
   "id": "6a39c8f4",
   "metadata": {},
   "outputs": [],
   "source": [
    "df.drop(columns=['adult','backdrop_path','id','original_language','popularity','poster_path','original_title',\n",
    "                'release_date','video','vote_average','vote_count'],inplace=True)"
   ]
  },
  {
   "cell_type": "code",
   "execution_count": 156,
   "id": "d537110f",
   "metadata": {},
   "outputs": [
    {
     "data": {
      "text/html": [
       "<div>\n",
       "<style scoped>\n",
       "    .dataframe tbody tr th:only-of-type {\n",
       "        vertical-align: middle;\n",
       "    }\n",
       "\n",
       "    .dataframe tbody tr th {\n",
       "        vertical-align: top;\n",
       "    }\n",
       "\n",
       "    .dataframe thead th {\n",
       "        text-align: right;\n",
       "    }\n",
       "</style>\n",
       "<table border=\"1\" class=\"dataframe\">\n",
       "  <thead>\n",
       "    <tr style=\"text-align: right;\">\n",
       "      <th></th>\n",
       "      <th>genre_ids</th>\n",
       "      <th>overview</th>\n",
       "      <th>title</th>\n",
       "    </tr>\n",
       "  </thead>\n",
       "  <tbody>\n",
       "    <tr>\n",
       "      <th>0</th>\n",
       "      <td>[18, 80]</td>\n",
       "      <td>Spanning the years 1945 to 1955, a chronicle o...</td>\n",
       "      <td>The Godfather</td>\n",
       "    </tr>\n",
       "    <tr>\n",
       "      <th>1</th>\n",
       "      <td>[18, 80]</td>\n",
       "      <td>Framed in the 1940s for the double murder of h...</td>\n",
       "      <td>The Shawshank Redemption</td>\n",
       "    </tr>\n",
       "    <tr>\n",
       "      <th>2</th>\n",
       "      <td>[18, 80]</td>\n",
       "      <td>In the continuing saga of the Corleone crime f...</td>\n",
       "      <td>The Godfather Part II</td>\n",
       "    </tr>\n",
       "    <tr>\n",
       "      <th>3</th>\n",
       "      <td>[18, 36, 10752]</td>\n",
       "      <td>The true story of how businessman Oskar Schind...</td>\n",
       "      <td>Schindler's List</td>\n",
       "    </tr>\n",
       "    <tr>\n",
       "      <th>4</th>\n",
       "      <td>[35, 18, 10749]</td>\n",
       "      <td>Raj is a rich, carefree, happy-go-lucky second...</td>\n",
       "      <td>Dilwale Dulhania Le Jayenge</td>\n",
       "    </tr>\n",
       "  </tbody>\n",
       "</table>\n",
       "</div>"
      ],
      "text/plain": [
       "         genre_ids                                           overview  \\\n",
       "0         [18, 80]  Spanning the years 1945 to 1955, a chronicle o...   \n",
       "1         [18, 80]  Framed in the 1940s for the double murder of h...   \n",
       "2         [18, 80]  In the continuing saga of the Corleone crime f...   \n",
       "3  [18, 36, 10752]  The true story of how businessman Oskar Schind...   \n",
       "4  [35, 18, 10749]  Raj is a rich, carefree, happy-go-lucky second...   \n",
       "\n",
       "                         title  \n",
       "0                The Godfather  \n",
       "1     The Shawshank Redemption  \n",
       "2        The Godfather Part II  \n",
       "3             Schindler's List  \n",
       "4  Dilwale Dulhania Le Jayenge  "
      ]
     },
     "execution_count": 156,
     "metadata": {},
     "output_type": "execute_result"
    }
   ],
   "source": [
    "df.head()"
   ]
  },
  {
   "cell_type": "code",
   "execution_count": 80,
   "id": "11c95720",
   "metadata": {},
   "outputs": [
    {
     "data": {
      "text/plain": [
       "[18, 80]"
      ]
     },
     "execution_count": 80,
     "metadata": {},
     "output_type": "execute_result"
    }
   ],
   "source": [
    "df['genre_ids'][0]"
   ]
  },
  {
   "cell_type": "code",
   "execution_count": 24,
   "id": "d56fbd19",
   "metadata": {},
   "outputs": [],
   "source": [
    "response2 = requests.get('https://api.themoviedb.org/3/genre/movie/list?api_key=8265bd1679663a7ea12ac168da84d2e8&language=en-US')"
   ]
  },
  {
   "cell_type": "code",
   "execution_count": 25,
   "id": "a2c18692",
   "metadata": {},
   "outputs": [
    {
     "data": {
      "text/plain": [
       "<Response [200]>"
      ]
     },
     "execution_count": 25,
     "metadata": {},
     "output_type": "execute_result"
    }
   ],
   "source": [
    "response2"
   ]
  },
  {
   "cell_type": "code",
   "execution_count": 116,
   "id": "a61a3b41",
   "metadata": {},
   "outputs": [
    {
     "data": {
      "text/plain": [
       "{'genres': [{'id': 28, 'name': 'Action'},\n",
       "  {'id': 12, 'name': 'Adventure'},\n",
       "  {'id': 16, 'name': 'Animation'},\n",
       "  {'id': 35, 'name': 'Comedy'},\n",
       "  {'id': 80, 'name': 'Crime'},\n",
       "  {'id': 99, 'name': 'Documentary'},\n",
       "  {'id': 18, 'name': 'Drama'},\n",
       "  {'id': 10751, 'name': 'Family'},\n",
       "  {'id': 14, 'name': 'Fantasy'},\n",
       "  {'id': 36, 'name': 'History'},\n",
       "  {'id': 27, 'name': 'Horror'},\n",
       "  {'id': 10402, 'name': 'Music'},\n",
       "  {'id': 9648, 'name': 'Mystery'},\n",
       "  {'id': 10749, 'name': 'Romance'},\n",
       "  {'id': 878, 'name': 'Science Fiction'},\n",
       "  {'id': 10770, 'name': 'TV Movie'},\n",
       "  {'id': 53, 'name': 'Thriller'},\n",
       "  {'id': 10752, 'name': 'War'},\n",
       "  {'id': 37, 'name': 'Western'}]}"
      ]
     },
     "execution_count": 116,
     "metadata": {},
     "output_type": "execute_result"
    }
   ],
   "source": [
    "response2.json()"
   ]
  },
  {
   "cell_type": "code",
   "execution_count": 63,
   "id": "76edde9d",
   "metadata": {},
   "outputs": [],
   "source": [
    "gen =[]"
   ]
  },
  {
   "cell_type": "code",
   "execution_count": 117,
   "id": "99953448",
   "metadata": {},
   "outputs": [
    {
     "data": {
      "text/plain": [
       "[{'id': 28, 'name': 'Action'},\n",
       " {'id': 12, 'name': 'Adventure'},\n",
       " {'id': 16, 'name': 'Animation'},\n",
       " {'id': 35, 'name': 'Comedy'},\n",
       " {'id': 80, 'name': 'Crime'},\n",
       " {'id': 99, 'name': 'Documentary'},\n",
       " {'id': 18, 'name': 'Drama'},\n",
       " {'id': 10751, 'name': 'Family'},\n",
       " {'id': 14, 'name': 'Fantasy'},\n",
       " {'id': 36, 'name': 'History'},\n",
       " {'id': 27, 'name': 'Horror'},\n",
       " {'id': 10402, 'name': 'Music'},\n",
       " {'id': 9648, 'name': 'Mystery'},\n",
       " {'id': 10749, 'name': 'Romance'},\n",
       " {'id': 878, 'name': 'Science Fiction'},\n",
       " {'id': 10770, 'name': 'TV Movie'},\n",
       " {'id': 53, 'name': 'Thriller'},\n",
       " {'id': 10752, 'name': 'War'},\n",
       " {'id': 37, 'name': 'Western'}]"
      ]
     },
     "execution_count": 117,
     "metadata": {},
     "output_type": "execute_result"
    }
   ],
   "source": [
    "response2.json()['genres']"
   ]
  },
  {
   "cell_type": "code",
   "execution_count": 93,
   "id": "a2e27e45",
   "metadata": {},
   "outputs": [
    {
     "data": {
      "text/plain": [
       "19"
      ]
     },
     "execution_count": 93,
     "metadata": {},
     "output_type": "execute_result"
    }
   ],
   "source": [
    "len(gen)"
   ]
  },
  {
   "cell_type": "code",
   "execution_count": 69,
   "id": "9dcba7e6",
   "metadata": {},
   "outputs": [],
   "source": [
    "num=[]\n",
    "gen_1=[]"
   ]
  },
  {
   "cell_type": "code",
   "execution_count": 70,
   "id": "1acebdda",
   "metadata": {},
   "outputs": [],
   "source": [
    "for idx in gen:\n",
    "    num.append(idx[0])\n",
    "    gen_1.append(idx[1])"
   ]
  },
  {
   "cell_type": "code",
   "execution_count": 73,
   "id": "6c27fdd1",
   "metadata": {},
   "outputs": [
    {
     "data": {
      "text/plain": [
       "['Action',\n",
       " 'Adventure',\n",
       " 'Animation',\n",
       " 'Comedy',\n",
       " 'Crime',\n",
       " 'Documentary',\n",
       " 'Drama',\n",
       " 'Family',\n",
       " 'Fantasy',\n",
       " 'History',\n",
       " 'Horror',\n",
       " 'Music',\n",
       " 'Mystery',\n",
       " 'Romance',\n",
       " 'Science Fiction',\n",
       " 'TV Movie',\n",
       " 'Thriller',\n",
       " 'War',\n",
       " 'Western']"
      ]
     },
     "execution_count": 73,
     "metadata": {},
     "output_type": "execute_result"
    }
   ],
   "source": [
    "gen_1"
   ]
  },
  {
   "cell_type": "code",
   "execution_count": 86,
   "id": "0009cd9b",
   "metadata": {},
   "outputs": [],
   "source": []
  },
  {
   "cell_type": "code",
   "execution_count": 118,
   "id": "5cab6295",
   "metadata": {},
   "outputs": [
    {
     "name": "stdout",
     "output_type": "stream",
     "text": [
      "Original Genre IDs Column: [28, 12, 16, 35, 80, 99, 18, 10751, 14, 36, 27, 10402, 9648, 10749, 878, 10770, 53, 10752, 37]\n",
      "Updated Genre Names Column: ['Action', 'Adventure', 'Animation', 'Comedy', 'Crime', 'Documentary', 'Drama', 'Family', 'Fantasy', 'History', 'Horror', 'Music', 'Mystery', 'Romance', 'Science Fiction', 'TV Movie', 'Thriller', 'War', 'Western']\n"
     ]
    }
   ],
   "source": [
    "# Sample data\n",
    "data = response2.json()['genres']\n",
    "\n",
    "# Sample column with genre IDs\n",
    "genre_ids_column = num\n",
    "\n",
    "# Mapping of genre IDs to names\n",
    "genre_mapping = {genre['id']: genre['name'] for genre in data if 'name' in genre}\n",
    "\n",
    "# Function to replace genre IDs with names\n",
    "def replace_genre_ids(genre_ids):\n",
    "    return [genre_mapping.get(genre_id, genre_id) for genre_id in genre_ids]\n",
    "\n",
    "# Applying the function to the genre IDs column\n",
    "updated_genre_column = replace_genre_ids(genre_ids_column)\n",
    "\n",
    "print(\"Original Genre IDs Column:\", genre_ids_column)\n",
    "print(\"Updated Genre Names Column:\", updated_genre_column)"
   ]
  },
  {
   "cell_type": "code",
   "execution_count": 124,
   "id": "ecd213d6",
   "metadata": {},
   "outputs": [
    {
     "data": {
      "text/plain": [
       "20"
      ]
     },
     "execution_count": 124,
     "metadata": {},
     "output_type": "execute_result"
    }
   ],
   "source": [
    "df['genre_ids'].count()"
   ]
  },
  {
   "cell_type": "code",
   "execution_count": 119,
   "id": "bccfdd51",
   "metadata": {},
   "outputs": [
    {
     "ename": "ValueError",
     "evalue": "Length of values (19) does not match length of index (20)",
     "output_type": "error",
     "traceback": [
      "\u001b[1;31m---------------------------------------------------------------------------\u001b[0m",
      "\u001b[1;31mValueError\u001b[0m                                Traceback (most recent call last)",
      "Cell \u001b[1;32mIn[119], line 1\u001b[0m\n\u001b[1;32m----> 1\u001b[0m df[\u001b[38;5;124m'\u001b[39m\u001b[38;5;124mgeners\u001b[39m\u001b[38;5;124m'\u001b[39m] \u001b[38;5;241m=\u001b[39m updated_genre_column\n",
      "File \u001b[1;32mE:\\anaconda\\lib\\site-packages\\pandas\\core\\frame.py:3950\u001b[0m, in \u001b[0;36mDataFrame.__setitem__\u001b[1;34m(self, key, value)\u001b[0m\n\u001b[0;32m   3947\u001b[0m     \u001b[38;5;28mself\u001b[39m\u001b[38;5;241m.\u001b[39m_setitem_array([key], value)\n\u001b[0;32m   3948\u001b[0m \u001b[38;5;28;01melse\u001b[39;00m:\n\u001b[0;32m   3949\u001b[0m     \u001b[38;5;66;03m# set column\u001b[39;00m\n\u001b[1;32m-> 3950\u001b[0m     \u001b[38;5;28;43mself\u001b[39;49m\u001b[38;5;241;43m.\u001b[39;49m\u001b[43m_set_item\u001b[49m\u001b[43m(\u001b[49m\u001b[43mkey\u001b[49m\u001b[43m,\u001b[49m\u001b[43m \u001b[49m\u001b[43mvalue\u001b[49m\u001b[43m)\u001b[49m\n",
      "File \u001b[1;32mE:\\anaconda\\lib\\site-packages\\pandas\\core\\frame.py:4143\u001b[0m, in \u001b[0;36mDataFrame._set_item\u001b[1;34m(self, key, value)\u001b[0m\n\u001b[0;32m   4133\u001b[0m \u001b[38;5;28;01mdef\u001b[39;00m \u001b[38;5;21m_set_item\u001b[39m(\u001b[38;5;28mself\u001b[39m, key, value) \u001b[38;5;241m-\u001b[39m\u001b[38;5;241m>\u001b[39m \u001b[38;5;28;01mNone\u001b[39;00m:\n\u001b[0;32m   4134\u001b[0m     \u001b[38;5;124;03m\"\"\"\u001b[39;00m\n\u001b[0;32m   4135\u001b[0m \u001b[38;5;124;03m    Add series to DataFrame in specified column.\u001b[39;00m\n\u001b[0;32m   4136\u001b[0m \n\u001b[1;32m   (...)\u001b[0m\n\u001b[0;32m   4141\u001b[0m \u001b[38;5;124;03m    ensure homogeneity.\u001b[39;00m\n\u001b[0;32m   4142\u001b[0m \u001b[38;5;124;03m    \"\"\"\u001b[39;00m\n\u001b[1;32m-> 4143\u001b[0m     value \u001b[38;5;241m=\u001b[39m \u001b[38;5;28;43mself\u001b[39;49m\u001b[38;5;241;43m.\u001b[39;49m\u001b[43m_sanitize_column\u001b[49m\u001b[43m(\u001b[49m\u001b[43mvalue\u001b[49m\u001b[43m)\u001b[49m\n\u001b[0;32m   4145\u001b[0m     \u001b[38;5;28;01mif\u001b[39;00m (\n\u001b[0;32m   4146\u001b[0m         key \u001b[38;5;129;01min\u001b[39;00m \u001b[38;5;28mself\u001b[39m\u001b[38;5;241m.\u001b[39mcolumns\n\u001b[0;32m   4147\u001b[0m         \u001b[38;5;129;01mand\u001b[39;00m value\u001b[38;5;241m.\u001b[39mndim \u001b[38;5;241m==\u001b[39m \u001b[38;5;241m1\u001b[39m\n\u001b[0;32m   4148\u001b[0m         \u001b[38;5;129;01mand\u001b[39;00m \u001b[38;5;129;01mnot\u001b[39;00m is_extension_array_dtype(value)\n\u001b[0;32m   4149\u001b[0m     ):\n\u001b[0;32m   4150\u001b[0m         \u001b[38;5;66;03m# broadcast across multiple columns if necessary\u001b[39;00m\n\u001b[0;32m   4151\u001b[0m         \u001b[38;5;28;01mif\u001b[39;00m \u001b[38;5;129;01mnot\u001b[39;00m \u001b[38;5;28mself\u001b[39m\u001b[38;5;241m.\u001b[39mcolumns\u001b[38;5;241m.\u001b[39mis_unique \u001b[38;5;129;01mor\u001b[39;00m \u001b[38;5;28misinstance\u001b[39m(\u001b[38;5;28mself\u001b[39m\u001b[38;5;241m.\u001b[39mcolumns, MultiIndex):\n",
      "File \u001b[1;32mE:\\anaconda\\lib\\site-packages\\pandas\\core\\frame.py:4870\u001b[0m, in \u001b[0;36mDataFrame._sanitize_column\u001b[1;34m(self, value)\u001b[0m\n\u001b[0;32m   4867\u001b[0m     \u001b[38;5;28;01mreturn\u001b[39;00m _reindex_for_setitem(Series(value), \u001b[38;5;28mself\u001b[39m\u001b[38;5;241m.\u001b[39mindex)\n\u001b[0;32m   4869\u001b[0m \u001b[38;5;28;01mif\u001b[39;00m is_list_like(value):\n\u001b[1;32m-> 4870\u001b[0m     \u001b[43mcom\u001b[49m\u001b[38;5;241;43m.\u001b[39;49m\u001b[43mrequire_length_match\u001b[49m\u001b[43m(\u001b[49m\u001b[43mvalue\u001b[49m\u001b[43m,\u001b[49m\u001b[43m \u001b[49m\u001b[38;5;28;43mself\u001b[39;49m\u001b[38;5;241;43m.\u001b[39;49m\u001b[43mindex\u001b[49m\u001b[43m)\u001b[49m\n\u001b[0;32m   4871\u001b[0m \u001b[38;5;28;01mreturn\u001b[39;00m sanitize_array(value, \u001b[38;5;28mself\u001b[39m\u001b[38;5;241m.\u001b[39mindex, copy\u001b[38;5;241m=\u001b[39m\u001b[38;5;28;01mTrue\u001b[39;00m, allow_2d\u001b[38;5;241m=\u001b[39m\u001b[38;5;28;01mTrue\u001b[39;00m)\n",
      "File \u001b[1;32mE:\\anaconda\\lib\\site-packages\\pandas\\core\\common.py:576\u001b[0m, in \u001b[0;36mrequire_length_match\u001b[1;34m(data, index)\u001b[0m\n\u001b[0;32m    572\u001b[0m \u001b[38;5;124;03m\"\"\"\u001b[39;00m\n\u001b[0;32m    573\u001b[0m \u001b[38;5;124;03mCheck the length of data matches the length of the index.\u001b[39;00m\n\u001b[0;32m    574\u001b[0m \u001b[38;5;124;03m\"\"\"\u001b[39;00m\n\u001b[0;32m    575\u001b[0m \u001b[38;5;28;01mif\u001b[39;00m \u001b[38;5;28mlen\u001b[39m(data) \u001b[38;5;241m!=\u001b[39m \u001b[38;5;28mlen\u001b[39m(index):\n\u001b[1;32m--> 576\u001b[0m     \u001b[38;5;28;01mraise\u001b[39;00m \u001b[38;5;167;01mValueError\u001b[39;00m(\n\u001b[0;32m    577\u001b[0m         \u001b[38;5;124m\"\u001b[39m\u001b[38;5;124mLength of values \u001b[39m\u001b[38;5;124m\"\u001b[39m\n\u001b[0;32m    578\u001b[0m         \u001b[38;5;124mf\u001b[39m\u001b[38;5;124m\"\u001b[39m\u001b[38;5;124m(\u001b[39m\u001b[38;5;132;01m{\u001b[39;00m\u001b[38;5;28mlen\u001b[39m(data)\u001b[38;5;132;01m}\u001b[39;00m\u001b[38;5;124m) \u001b[39m\u001b[38;5;124m\"\u001b[39m\n\u001b[0;32m    579\u001b[0m         \u001b[38;5;124m\"\u001b[39m\u001b[38;5;124mdoes not match length of index \u001b[39m\u001b[38;5;124m\"\u001b[39m\n\u001b[0;32m    580\u001b[0m         \u001b[38;5;124mf\u001b[39m\u001b[38;5;124m\"\u001b[39m\u001b[38;5;124m(\u001b[39m\u001b[38;5;132;01m{\u001b[39;00m\u001b[38;5;28mlen\u001b[39m(index)\u001b[38;5;132;01m}\u001b[39;00m\u001b[38;5;124m)\u001b[39m\u001b[38;5;124m\"\u001b[39m\n\u001b[0;32m    581\u001b[0m     )\n",
      "\u001b[1;31mValueError\u001b[0m: Length of values (19) does not match length of index (20)"
     ]
    }
   ],
   "source": [
    "df['geners'] = updated_genre_column"
   ]
  },
  {
   "cell_type": "code",
   "execution_count": 122,
   "id": "ef123df8",
   "metadata": {},
   "outputs": [
    {
     "data": {
      "text/plain": [
       "19"
      ]
     },
     "execution_count": 122,
     "metadata": {},
     "output_type": "execute_result"
    }
   ],
   "source": [
    "len(response2.json()['genres'])"
   ]
  },
  {
   "cell_type": "markdown",
   "id": "0895c6a1",
   "metadata": {},
   "source": [
    "## Preprocessing "
   ]
  },
  {
   "cell_type": "code",
   "execution_count": 157,
   "id": "87be94e1",
   "metadata": {},
   "outputs": [],
   "source": [
    "#lowercasing\n",
    "df['overview']=df['overview'].str.lower()"
   ]
  },
  {
   "cell_type": "code",
   "execution_count": 158,
   "id": "029a700d",
   "metadata": {},
   "outputs": [
    {
     "data": {
      "text/html": [
       "<div>\n",
       "<style scoped>\n",
       "    .dataframe tbody tr th:only-of-type {\n",
       "        vertical-align: middle;\n",
       "    }\n",
       "\n",
       "    .dataframe tbody tr th {\n",
       "        vertical-align: top;\n",
       "    }\n",
       "\n",
       "    .dataframe thead th {\n",
       "        text-align: right;\n",
       "    }\n",
       "</style>\n",
       "<table border=\"1\" class=\"dataframe\">\n",
       "  <thead>\n",
       "    <tr style=\"text-align: right;\">\n",
       "      <th></th>\n",
       "      <th>genre_ids</th>\n",
       "      <th>overview</th>\n",
       "      <th>title</th>\n",
       "    </tr>\n",
       "  </thead>\n",
       "  <tbody>\n",
       "    <tr>\n",
       "      <th>0</th>\n",
       "      <td>[18, 80]</td>\n",
       "      <td>spanning the years 1945 to 1955, a chronicle o...</td>\n",
       "      <td>The Godfather</td>\n",
       "    </tr>\n",
       "    <tr>\n",
       "      <th>1</th>\n",
       "      <td>[18, 80]</td>\n",
       "      <td>framed in the 1940s for the double murder of h...</td>\n",
       "      <td>The Shawshank Redemption</td>\n",
       "    </tr>\n",
       "    <tr>\n",
       "      <th>2</th>\n",
       "      <td>[18, 80]</td>\n",
       "      <td>in the continuing saga of the corleone crime f...</td>\n",
       "      <td>The Godfather Part II</td>\n",
       "    </tr>\n",
       "    <tr>\n",
       "      <th>3</th>\n",
       "      <td>[18, 36, 10752]</td>\n",
       "      <td>the true story of how businessman oskar schind...</td>\n",
       "      <td>Schindler's List</td>\n",
       "    </tr>\n",
       "    <tr>\n",
       "      <th>4</th>\n",
       "      <td>[35, 18, 10749]</td>\n",
       "      <td>raj is a rich, carefree, happy-go-lucky second...</td>\n",
       "      <td>Dilwale Dulhania Le Jayenge</td>\n",
       "    </tr>\n",
       "  </tbody>\n",
       "</table>\n",
       "</div>"
      ],
      "text/plain": [
       "         genre_ids                                           overview  \\\n",
       "0         [18, 80]  spanning the years 1945 to 1955, a chronicle o...   \n",
       "1         [18, 80]  framed in the 1940s for the double murder of h...   \n",
       "2         [18, 80]  in the continuing saga of the corleone crime f...   \n",
       "3  [18, 36, 10752]  the true story of how businessman oskar schind...   \n",
       "4  [35, 18, 10749]  raj is a rich, carefree, happy-go-lucky second...   \n",
       "\n",
       "                         title  \n",
       "0                The Godfather  \n",
       "1     The Shawshank Redemption  \n",
       "2        The Godfather Part II  \n",
       "3             Schindler's List  \n",
       "4  Dilwale Dulhania Le Jayenge  "
      ]
     },
     "execution_count": 158,
     "metadata": {},
     "output_type": "execute_result"
    }
   ],
   "source": [
    "df.head()"
   ]
  },
  {
   "cell_type": "code",
   "execution_count": 159,
   "id": "82598458",
   "metadata": {},
   "outputs": [],
   "source": [
    "#punctuation\n",
    "import string\n",
    "exclude = string.punctuation"
   ]
  },
  {
   "cell_type": "code",
   "execution_count": 160,
   "id": "e7f02b6d",
   "metadata": {},
   "outputs": [],
   "source": [
    "def remove_punc(text):\n",
    "    for char in exclude:\n",
    "        text = text.replace(char,'')\n",
    "    return text"
   ]
  },
  {
   "cell_type": "code",
   "execution_count": 161,
   "id": "69011085",
   "metadata": {},
   "outputs": [],
   "source": [
    "df['overview']=df['overview'].apply(remove_punc)"
   ]
  },
  {
   "cell_type": "code",
   "execution_count": 162,
   "id": "fe13b6ec",
   "metadata": {},
   "outputs": [
    {
     "data": {
      "text/html": [
       "<div>\n",
       "<style scoped>\n",
       "    .dataframe tbody tr th:only-of-type {\n",
       "        vertical-align: middle;\n",
       "    }\n",
       "\n",
       "    .dataframe tbody tr th {\n",
       "        vertical-align: top;\n",
       "    }\n",
       "\n",
       "    .dataframe thead th {\n",
       "        text-align: right;\n",
       "    }\n",
       "</style>\n",
       "<table border=\"1\" class=\"dataframe\">\n",
       "  <thead>\n",
       "    <tr style=\"text-align: right;\">\n",
       "      <th></th>\n",
       "      <th>genre_ids</th>\n",
       "      <th>overview</th>\n",
       "      <th>title</th>\n",
       "    </tr>\n",
       "  </thead>\n",
       "  <tbody>\n",
       "    <tr>\n",
       "      <th>0</th>\n",
       "      <td>[18, 80]</td>\n",
       "      <td>spanning the years 1945 to 1955 a chronicle of...</td>\n",
       "      <td>The Godfather</td>\n",
       "    </tr>\n",
       "    <tr>\n",
       "      <th>1</th>\n",
       "      <td>[18, 80]</td>\n",
       "      <td>framed in the 1940s for the double murder of h...</td>\n",
       "      <td>The Shawshank Redemption</td>\n",
       "    </tr>\n",
       "    <tr>\n",
       "      <th>2</th>\n",
       "      <td>[18, 80]</td>\n",
       "      <td>in the continuing saga of the corleone crime f...</td>\n",
       "      <td>The Godfather Part II</td>\n",
       "    </tr>\n",
       "    <tr>\n",
       "      <th>3</th>\n",
       "      <td>[18, 36, 10752]</td>\n",
       "      <td>the true story of how businessman oskar schind...</td>\n",
       "      <td>Schindler's List</td>\n",
       "    </tr>\n",
       "    <tr>\n",
       "      <th>4</th>\n",
       "      <td>[35, 18, 10749]</td>\n",
       "      <td>raj is a rich carefree happygolucky second gen...</td>\n",
       "      <td>Dilwale Dulhania Le Jayenge</td>\n",
       "    </tr>\n",
       "  </tbody>\n",
       "</table>\n",
       "</div>"
      ],
      "text/plain": [
       "         genre_ids                                           overview  \\\n",
       "0         [18, 80]  spanning the years 1945 to 1955 a chronicle of...   \n",
       "1         [18, 80]  framed in the 1940s for the double murder of h...   \n",
       "2         [18, 80]  in the continuing saga of the corleone crime f...   \n",
       "3  [18, 36, 10752]  the true story of how businessman oskar schind...   \n",
       "4  [35, 18, 10749]  raj is a rich carefree happygolucky second gen...   \n",
       "\n",
       "                         title  \n",
       "0                The Godfather  \n",
       "1     The Shawshank Redemption  \n",
       "2        The Godfather Part II  \n",
       "3             Schindler's List  \n",
       "4  Dilwale Dulhania Le Jayenge  "
      ]
     },
     "execution_count": 162,
     "metadata": {},
     "output_type": "execute_result"
    }
   ],
   "source": [
    "df.head()"
   ]
  },
  {
   "cell_type": "code",
   "execution_count": 163,
   "id": "212ef955",
   "metadata": {},
   "outputs": [],
   "source": [
    "from textblob import TextBlob"
   ]
  },
  {
   "cell_type": "code",
   "execution_count": 164,
   "id": "69f08ed3",
   "metadata": {},
   "outputs": [],
   "source": [
    "def spell_check(text):\n",
    "    for sent in text:\n",
    "        textblb = TextBlob(sent)\n",
    "        textblb.correct().string\n",
    "    return text\n",
    "    \n",
    "    "
   ]
  },
  {
   "cell_type": "code",
   "execution_count": 165,
   "id": "e979f307",
   "metadata": {},
   "outputs": [],
   "source": [
    "df['overview']=df['overview'].apply(spell_check)"
   ]
  },
  {
   "cell_type": "code",
   "execution_count": 166,
   "id": "db434a6c",
   "metadata": {},
   "outputs": [
    {
     "data": {
      "text/html": [
       "<div>\n",
       "<style scoped>\n",
       "    .dataframe tbody tr th:only-of-type {\n",
       "        vertical-align: middle;\n",
       "    }\n",
       "\n",
       "    .dataframe tbody tr th {\n",
       "        vertical-align: top;\n",
       "    }\n",
       "\n",
       "    .dataframe thead th {\n",
       "        text-align: right;\n",
       "    }\n",
       "</style>\n",
       "<table border=\"1\" class=\"dataframe\">\n",
       "  <thead>\n",
       "    <tr style=\"text-align: right;\">\n",
       "      <th></th>\n",
       "      <th>genre_ids</th>\n",
       "      <th>overview</th>\n",
       "      <th>title</th>\n",
       "    </tr>\n",
       "  </thead>\n",
       "  <tbody>\n",
       "    <tr>\n",
       "      <th>0</th>\n",
       "      <td>[18, 80]</td>\n",
       "      <td>spanning the years 1945 to 1955 a chronicle of...</td>\n",
       "      <td>The Godfather</td>\n",
       "    </tr>\n",
       "    <tr>\n",
       "      <th>1</th>\n",
       "      <td>[18, 80]</td>\n",
       "      <td>framed in the 1940s for the double murder of h...</td>\n",
       "      <td>The Shawshank Redemption</td>\n",
       "    </tr>\n",
       "    <tr>\n",
       "      <th>2</th>\n",
       "      <td>[18, 80]</td>\n",
       "      <td>in the continuing saga of the corleone crime f...</td>\n",
       "      <td>The Godfather Part II</td>\n",
       "    </tr>\n",
       "    <tr>\n",
       "      <th>3</th>\n",
       "      <td>[18, 36, 10752]</td>\n",
       "      <td>the true story of how businessman oskar schind...</td>\n",
       "      <td>Schindler's List</td>\n",
       "    </tr>\n",
       "    <tr>\n",
       "      <th>4</th>\n",
       "      <td>[35, 18, 10749]</td>\n",
       "      <td>raj is a rich carefree happygolucky second gen...</td>\n",
       "      <td>Dilwale Dulhania Le Jayenge</td>\n",
       "    </tr>\n",
       "  </tbody>\n",
       "</table>\n",
       "</div>"
      ],
      "text/plain": [
       "         genre_ids                                           overview  \\\n",
       "0         [18, 80]  spanning the years 1945 to 1955 a chronicle of...   \n",
       "1         [18, 80]  framed in the 1940s for the double murder of h...   \n",
       "2         [18, 80]  in the continuing saga of the corleone crime f...   \n",
       "3  [18, 36, 10752]  the true story of how businessman oskar schind...   \n",
       "4  [35, 18, 10749]  raj is a rich carefree happygolucky second gen...   \n",
       "\n",
       "                         title  \n",
       "0                The Godfather  \n",
       "1     The Shawshank Redemption  \n",
       "2        The Godfather Part II  \n",
       "3             Schindler's List  \n",
       "4  Dilwale Dulhania Le Jayenge  "
      ]
     },
     "execution_count": 166,
     "metadata": {},
     "output_type": "execute_result"
    }
   ],
   "source": [
    "df.head()"
   ]
  },
  {
   "cell_type": "code",
   "execution_count": 167,
   "id": "cf3ef2c9",
   "metadata": {},
   "outputs": [],
   "source": [
    "#stop word\n",
    "from nltk.corpus import stopwords"
   ]
  },
  {
   "cell_type": "code",
   "execution_count": 168,
   "id": "300b401b",
   "metadata": {},
   "outputs": [
    {
     "data": {
      "text/plain": [
       "['i',\n",
       " 'me',\n",
       " 'my',\n",
       " 'myself',\n",
       " 'we',\n",
       " 'our',\n",
       " 'ours',\n",
       " 'ourselves',\n",
       " 'you',\n",
       " \"you're\",\n",
       " \"you've\",\n",
       " \"you'll\",\n",
       " \"you'd\",\n",
       " 'your',\n",
       " 'yours',\n",
       " 'yourself',\n",
       " 'yourselves',\n",
       " 'he',\n",
       " 'him',\n",
       " 'his',\n",
       " 'himself',\n",
       " 'she',\n",
       " \"she's\",\n",
       " 'her',\n",
       " 'hers',\n",
       " 'herself',\n",
       " 'it',\n",
       " \"it's\",\n",
       " 'its',\n",
       " 'itself',\n",
       " 'they',\n",
       " 'them',\n",
       " 'their',\n",
       " 'theirs',\n",
       " 'themselves',\n",
       " 'what',\n",
       " 'which',\n",
       " 'who',\n",
       " 'whom',\n",
       " 'this',\n",
       " 'that',\n",
       " \"that'll\",\n",
       " 'these',\n",
       " 'those',\n",
       " 'am',\n",
       " 'is',\n",
       " 'are',\n",
       " 'was',\n",
       " 'were',\n",
       " 'be',\n",
       " 'been',\n",
       " 'being',\n",
       " 'have',\n",
       " 'has',\n",
       " 'had',\n",
       " 'having',\n",
       " 'do',\n",
       " 'does',\n",
       " 'did',\n",
       " 'doing',\n",
       " 'a',\n",
       " 'an',\n",
       " 'the',\n",
       " 'and',\n",
       " 'but',\n",
       " 'if',\n",
       " 'or',\n",
       " 'because',\n",
       " 'as',\n",
       " 'until',\n",
       " 'while',\n",
       " 'of',\n",
       " 'at',\n",
       " 'by',\n",
       " 'for',\n",
       " 'with',\n",
       " 'about',\n",
       " 'against',\n",
       " 'between',\n",
       " 'into',\n",
       " 'through',\n",
       " 'during',\n",
       " 'before',\n",
       " 'after',\n",
       " 'above',\n",
       " 'below',\n",
       " 'to',\n",
       " 'from',\n",
       " 'up',\n",
       " 'down',\n",
       " 'in',\n",
       " 'out',\n",
       " 'on',\n",
       " 'off',\n",
       " 'over',\n",
       " 'under',\n",
       " 'again',\n",
       " 'further',\n",
       " 'then',\n",
       " 'once',\n",
       " 'here',\n",
       " 'there',\n",
       " 'when',\n",
       " 'where',\n",
       " 'why',\n",
       " 'how',\n",
       " 'all',\n",
       " 'any',\n",
       " 'both',\n",
       " 'each',\n",
       " 'few',\n",
       " 'more',\n",
       " 'most',\n",
       " 'other',\n",
       " 'some',\n",
       " 'such',\n",
       " 'no',\n",
       " 'nor',\n",
       " 'not',\n",
       " 'only',\n",
       " 'own',\n",
       " 'same',\n",
       " 'so',\n",
       " 'than',\n",
       " 'too',\n",
       " 'very',\n",
       " 's',\n",
       " 't',\n",
       " 'can',\n",
       " 'will',\n",
       " 'just',\n",
       " 'don',\n",
       " \"don't\",\n",
       " 'should',\n",
       " \"should've\",\n",
       " 'now',\n",
       " 'd',\n",
       " 'll',\n",
       " 'm',\n",
       " 'o',\n",
       " 're',\n",
       " 've',\n",
       " 'y',\n",
       " 'ain',\n",
       " 'aren',\n",
       " \"aren't\",\n",
       " 'couldn',\n",
       " \"couldn't\",\n",
       " 'didn',\n",
       " \"didn't\",\n",
       " 'doesn',\n",
       " \"doesn't\",\n",
       " 'hadn',\n",
       " \"hadn't\",\n",
       " 'hasn',\n",
       " \"hasn't\",\n",
       " 'haven',\n",
       " \"haven't\",\n",
       " 'isn',\n",
       " \"isn't\",\n",
       " 'ma',\n",
       " 'mightn',\n",
       " \"mightn't\",\n",
       " 'mustn',\n",
       " \"mustn't\",\n",
       " 'needn',\n",
       " \"needn't\",\n",
       " 'shan',\n",
       " \"shan't\",\n",
       " 'shouldn',\n",
       " \"shouldn't\",\n",
       " 'wasn',\n",
       " \"wasn't\",\n",
       " 'weren',\n",
       " \"weren't\",\n",
       " 'won',\n",
       " \"won't\",\n",
       " 'wouldn',\n",
       " \"wouldn't\"]"
      ]
     },
     "execution_count": 168,
     "metadata": {},
     "output_type": "execute_result"
    }
   ],
   "source": [
    "stopwords.words('english')"
   ]
  },
  {
   "cell_type": "code",
   "execution_count": 169,
   "id": "6fcb6018",
   "metadata": {},
   "outputs": [],
   "source": [
    "def remove_stop_word(text):\n",
    "    new_word = []\n",
    "    for word in text.split():\n",
    "        if word in stopwords.words('english'):\n",
    "            new_word.append('')\n",
    "        else:\n",
    "            new_word.append(word)\n",
    "    x = new_word[:]\n",
    "    new_word.clear()\n",
    "    return \" \".join(x)"
   ]
  },
  {
   "cell_type": "code",
   "execution_count": 170,
   "id": "26124829",
   "metadata": {},
   "outputs": [],
   "source": [
    "df['overview']=df['overview'].apply(remove_stop_word)"
   ]
  },
  {
   "cell_type": "code",
   "execution_count": 171,
   "id": "1bc01ac4",
   "metadata": {},
   "outputs": [
    {
     "data": {
      "text/html": [
       "<div>\n",
       "<style scoped>\n",
       "    .dataframe tbody tr th:only-of-type {\n",
       "        vertical-align: middle;\n",
       "    }\n",
       "\n",
       "    .dataframe tbody tr th {\n",
       "        vertical-align: top;\n",
       "    }\n",
       "\n",
       "    .dataframe thead th {\n",
       "        text-align: right;\n",
       "    }\n",
       "</style>\n",
       "<table border=\"1\" class=\"dataframe\">\n",
       "  <thead>\n",
       "    <tr style=\"text-align: right;\">\n",
       "      <th></th>\n",
       "      <th>genre_ids</th>\n",
       "      <th>overview</th>\n",
       "      <th>title</th>\n",
       "    </tr>\n",
       "  </thead>\n",
       "  <tbody>\n",
       "    <tr>\n",
       "      <th>0</th>\n",
       "      <td>[18, 80]</td>\n",
       "      <td>spanning  years 1945  1955  chronicle   fictio...</td>\n",
       "      <td>The Godfather</td>\n",
       "    </tr>\n",
       "    <tr>\n",
       "      <th>1</th>\n",
       "      <td>[18, 80]</td>\n",
       "      <td>framed   1940s   double murder   wife   lover ...</td>\n",
       "      <td>The Shawshank Redemption</td>\n",
       "    </tr>\n",
       "    <tr>\n",
       "      <th>2</th>\n",
       "      <td>[18, 80]</td>\n",
       "      <td>continuing saga   corleone crime family  you...</td>\n",
       "      <td>The Godfather Part II</td>\n",
       "    </tr>\n",
       "    <tr>\n",
       "      <th>3</th>\n",
       "      <td>[18, 36, 10752]</td>\n",
       "      <td>true story   businessman oskar schindler save...</td>\n",
       "      <td>Schindler's List</td>\n",
       "    </tr>\n",
       "    <tr>\n",
       "      <th>4</th>\n",
       "      <td>[35, 18, 10749]</td>\n",
       "      <td>raj   rich carefree happygolucky second genera...</td>\n",
       "      <td>Dilwale Dulhania Le Jayenge</td>\n",
       "    </tr>\n",
       "  </tbody>\n",
       "</table>\n",
       "</div>"
      ],
      "text/plain": [
       "         genre_ids                                           overview  \\\n",
       "0         [18, 80]  spanning  years 1945  1955  chronicle   fictio...   \n",
       "1         [18, 80]  framed   1940s   double murder   wife   lover ...   \n",
       "2         [18, 80]    continuing saga   corleone crime family  you...   \n",
       "3  [18, 36, 10752]   true story   businessman oskar schindler save...   \n",
       "4  [35, 18, 10749]  raj   rich carefree happygolucky second genera...   \n",
       "\n",
       "                         title  \n",
       "0                The Godfather  \n",
       "1     The Shawshank Redemption  \n",
       "2        The Godfather Part II  \n",
       "3             Schindler's List  \n",
       "4  Dilwale Dulhania Le Jayenge  "
      ]
     },
     "execution_count": 171,
     "metadata": {},
     "output_type": "execute_result"
    }
   ],
   "source": [
    "df.head()"
   ]
  },
  {
   "cell_type": "code",
   "execution_count": 172,
   "id": "8aabf3c4",
   "metadata": {},
   "outputs": [],
   "source": [
    "#tokenizer\n",
    "from nltk.tokenize import word_tokenize,sent_tokenize"
   ]
  },
  {
   "cell_type": "code",
   "execution_count": 173,
   "id": "9cc04cb5",
   "metadata": {},
   "outputs": [],
   "source": [
    "def tokenize(text):\n",
    "    return word_tokenize(text)"
   ]
  },
  {
   "cell_type": "code",
   "execution_count": 175,
   "id": "b09b38a5",
   "metadata": {},
   "outputs": [],
   "source": [
    "df['overview']=df['overview'].apply(tokenize)"
   ]
  },
  {
   "cell_type": "code",
   "execution_count": 176,
   "id": "70a44467",
   "metadata": {},
   "outputs": [
    {
     "data": {
      "text/html": [
       "<div>\n",
       "<style scoped>\n",
       "    .dataframe tbody tr th:only-of-type {\n",
       "        vertical-align: middle;\n",
       "    }\n",
       "\n",
       "    .dataframe tbody tr th {\n",
       "        vertical-align: top;\n",
       "    }\n",
       "\n",
       "    .dataframe thead th {\n",
       "        text-align: right;\n",
       "    }\n",
       "</style>\n",
       "<table border=\"1\" class=\"dataframe\">\n",
       "  <thead>\n",
       "    <tr style=\"text-align: right;\">\n",
       "      <th></th>\n",
       "      <th>genre_ids</th>\n",
       "      <th>overview</th>\n",
       "      <th>title</th>\n",
       "    </tr>\n",
       "  </thead>\n",
       "  <tbody>\n",
       "    <tr>\n",
       "      <th>0</th>\n",
       "      <td>[18, 80]</td>\n",
       "      <td>[spanning, years, 1945, 1955, chronicle, ficti...</td>\n",
       "      <td>The Godfather</td>\n",
       "    </tr>\n",
       "    <tr>\n",
       "      <th>1</th>\n",
       "      <td>[18, 80]</td>\n",
       "      <td>[framed, 1940s, double, murder, wife, lover, u...</td>\n",
       "      <td>The Shawshank Redemption</td>\n",
       "    </tr>\n",
       "    <tr>\n",
       "      <th>2</th>\n",
       "      <td>[18, 80]</td>\n",
       "      <td>[continuing, saga, corleone, crime, family, yo...</td>\n",
       "      <td>The Godfather Part II</td>\n",
       "    </tr>\n",
       "    <tr>\n",
       "      <th>3</th>\n",
       "      <td>[18, 36, 10752]</td>\n",
       "      <td>[true, story, businessman, oskar, schindler, s...</td>\n",
       "      <td>Schindler's List</td>\n",
       "    </tr>\n",
       "    <tr>\n",
       "      <th>4</th>\n",
       "      <td>[35, 18, 10749]</td>\n",
       "      <td>[raj, rich, carefree, happygolucky, second, ge...</td>\n",
       "      <td>Dilwale Dulhania Le Jayenge</td>\n",
       "    </tr>\n",
       "  </tbody>\n",
       "</table>\n",
       "</div>"
      ],
      "text/plain": [
       "         genre_ids                                           overview  \\\n",
       "0         [18, 80]  [spanning, years, 1945, 1955, chronicle, ficti...   \n",
       "1         [18, 80]  [framed, 1940s, double, murder, wife, lover, u...   \n",
       "2         [18, 80]  [continuing, saga, corleone, crime, family, yo...   \n",
       "3  [18, 36, 10752]  [true, story, businessman, oskar, schindler, s...   \n",
       "4  [35, 18, 10749]  [raj, rich, carefree, happygolucky, second, ge...   \n",
       "\n",
       "                         title  \n",
       "0                The Godfather  \n",
       "1     The Shawshank Redemption  \n",
       "2        The Godfather Part II  \n",
       "3             Schindler's List  \n",
       "4  Dilwale Dulhania Le Jayenge  "
      ]
     },
     "execution_count": 176,
     "metadata": {},
     "output_type": "execute_result"
    }
   ],
   "source": [
    "df.head()"
   ]
  },
  {
   "cell_type": "code",
   "execution_count": null,
   "id": "82453a11",
   "metadata": {},
   "outputs": [],
   "source": []
  }
 ],
 "metadata": {
  "kernelspec": {
   "display_name": "Python 3 (ipykernel)",
   "language": "python",
   "name": "python3"
  },
  "language_info": {
   "codemirror_mode": {
    "name": "ipython",
    "version": 3
   },
   "file_extension": ".py",
   "mimetype": "text/x-python",
   "name": "python",
   "nbconvert_exporter": "python",
   "pygments_lexer": "ipython3",
   "version": "3.10.12"
  }
 },
 "nbformat": 4,
 "nbformat_minor": 5
}
